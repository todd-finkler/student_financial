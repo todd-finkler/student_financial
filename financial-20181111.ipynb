{
 "cells": [
  {
   "cell_type": "markdown",
   "metadata": {},
   "source": [
    "1. Start Python \n",
    "Open a command line and start the python interpreter:"
   ]
  },
  {
   "cell_type": "code",
   "execution_count": 5,
   "metadata": {},
   "outputs": [
    {
     "name": "stdout",
     "output_type": "stream",
     "text": [
      "Python: 3.6.3 |Anaconda custom (64-bit)| (default, Oct 15 2017, 03:27:45) [MSC v.1900 64 bit (AMD64)]\n",
      "scipy: 0.19.1\n",
      "numpy: 1.13.3\n",
      "matplotlib: 2.1.0\n",
      "pandas: 0.20.3\n",
      "sklearn: 0.19.1\n"
     ]
    }
   ],
   "source": [
    "# Check the versions of libraries\n",
    "\n",
    "# Python version\n",
    "import sys\n",
    "print('Python: {}'.format(sys.version))\n",
    "# scipy\n",
    "import scipy\n",
    "print('scipy: {}'.format(scipy.__version__))\n",
    "# numpy\n",
    "import numpy\n",
    "print('numpy: {}'.format(numpy.__version__))\n",
    "# matplotlib\n",
    "import matplotlib\n",
    "print('matplotlib: {}'.format(matplotlib.__version__))\n",
    "# pandas\n",
    "import pandas\n",
    "print('pandas: {}'.format(pandas.__version__))\n",
    "# scikit-learn\n",
    "import sklearn\n",
    "print('sklearn: {}'.format(sklearn.__version__))# Load libraries"
   ]
  },
  {
   "cell_type": "markdown",
   "metadata": {},
   "source": [
    "2. Load The Data\n",
    "We are going to use the financial dataset. Load the data from CSV file URL.\n",
    "\n",
    "2.1 Import libraries\n",
    "First, let’s import all of the modules, functions and objects we are going to use in this tutorial."
   ]
  },
  {
   "cell_type": "code",
   "execution_count": 6,
   "metadata": {
    "collapsed": true
   },
   "outputs": [],
   "source": [
    "# Load libraries\n",
    "import pandas\n",
    "from pandas.plotting import scatter_matrix\n",
    "import matplotlib.pyplot as plt\n",
    "from sklearn import model_selection\n",
    "from sklearn.metrics import classification_report\n",
    "from sklearn.metrics import confusion_matrix\n",
    "from sklearn.metrics import accuracy_score\n",
    "from sklearn.linear_model import LogisticRegression\n",
    "from sklearn.tree import DecisionTreeClassifier\n",
    "from sklearn.neighbors import KNeighborsClassifier\n",
    "from sklearn.discriminant_analysis import LinearDiscriminantAnalysis\n",
    "from sklearn.naive_bayes import GaussianNB\n",
    "from sklearn.svm import SVC"
   ]
  },
  {
   "cell_type": "markdown",
   "metadata": {},
   "source": [
    "Everything should load without error. If you have an error, stop. You need a working SciPy environment before continuing. See the advice above about setting up your environment.\n",
    "\n",
    "2.2 Load Dataset\n",
    "e are using pandas to load the data. We will also use pandas next to explore the data both with descriptive statistics and data visualization.\n",
    "\n",
    "Note that we are specifying the names of each column when loading the data. This will help later when we explore the data."
   ]
  },
  {
   "cell_type": "code",
   "execution_count": 9,
   "metadata": {},
   "outputs": [],
   "source": [
    "# Load dataset\n",
    "url = \"file:///C:/Users/wave-top/Documents/Python_Scripts/financial/Coke_2017_And_Earlier.csv\"\n",
    "names = ['High','Low','Volume','Change', 'Percent', 'Recomendation']\n",
    "dataset = pandas.read_csv(url, names=names)"
   ]
  },
  {
   "cell_type": "markdown",
   "metadata": {
    "collapsed": true
   },
   "source": [
    "3. Summarize the Dataset\n",
    "Now it is time to take a look at the data.\n",
    "\n",
    "In this step we are going to take a look at the data a few different ways:\n",
    "\n",
    "Dimensions of the dataset.\n",
    "Peek at the data itself.\n",
    "Statistical summary of all attributes.\n",
    "Breakdown of the data by the class variable.\n",
    "Don’t worry, each look at the data is one command. These are useful commands that you can use again and again on future projects.\n",
    "\n",
    "3.1 Dimensions of Dataset\n",
    "We can get a quick idea of how many instances (rows) and how many attributes (columns) the data contains with the shape property."
   ]
  },
  {
   "cell_type": "code",
   "execution_count": 10,
   "metadata": {},
   "outputs": [
    {
     "name": "stdout",
     "output_type": "stream",
     "text": [
      "(5753, 6)\n"
     ]
    }
   ],
   "source": [
    "# shape\n",
    "print(dataset.shape)"
   ]
  },
  {
   "cell_type": "markdown",
   "metadata": {},
   "source": [
    "You should see 5,753 instances and 6 attributes:\n",
    "\n",
    "3.2 Peek at the Data\n",
    "It is also always a good idea to actually eyeball your data."
   ]
  },
  {
   "cell_type": "code",
   "execution_count": 11,
   "metadata": {},
   "outputs": [
    {
     "name": "stdout",
     "output_type": "stream",
     "text": [
      "     High    Low   Volume  Change  Percent  Recomendation\n",
      "0   25.88  25.19  1622300   -0.56  -0.0216              0\n",
      "1   25.38  24.94  2120000   -0.12  -0.0049              0\n",
      "2   25.32  25.00  1351300    0.00   0.0000              0\n",
      "3   25.12  24.75  1471400   -0.38  -0.0149              0\n",
      "4   24.94  24.50  1863800   -0.25  -0.0101              1\n",
      "5   24.75  24.50  1954800    0.06   0.0024              1\n",
      "6   24.94  24.38  2088000    0.25   0.0102              0\n",
      "7   25.25  24.82  2467500    0.00   0.0000              1\n",
      "8   25.44  25.07  1444400    0.44   0.0177              1\n",
      "9   25.62  25.32  1288300    0.12   0.0049              0\n",
      "10  25.38  25.12  1140800   -0.19  -0.0075              1\n",
      "11  25.57  25.00  1504100    0.19   0.0075              0\n",
      "12  25.50  25.32  2680500    0.00   0.0000              0\n",
      "13  25.62  25.32  1258100    0.00   0.0000              0\n",
      "14  25.44  25.12  1464400   -0.25  -0.0098              1\n",
      "15  25.50  25.12  1520000    0.12   0.0050              1\n",
      "16  25.88  25.32  1241600    0.56   0.0221              1\n",
      "17  26.38  25.88  1866300    0.32   0.0122              1\n",
      "18  26.38  26.00  1461900    0.12   0.0048              0\n",
      "19  26.38  26.19  1469100   -0.07  -0.0025              0\n"
     ]
    }
   ],
   "source": [
    "# head\n",
    "print(dataset.head(20))"
   ]
  },
  {
   "cell_type": "markdown",
   "metadata": {},
   "source": [
    "3.3 Statistical Summary\n",
    "Now we can take a look at a summary of each attribute.\n",
    "\n",
    "This includes the count, mean, the min and max values as well as some percentiles."
   ]
  },
  {
   "cell_type": "code",
   "execution_count": 12,
   "metadata": {},
   "outputs": [
    {
     "name": "stdout",
     "output_type": "stream",
     "text": [
      "              High          Low        Volume       Change      Percent  \\\n",
      "count  5753.000000  5753.000000  5.753000e+03  5753.000000  5753.000000   \n",
      "mean     50.614996    49.724281  7.988516e+06     0.003758     0.000237   \n",
      "std      11.142713    10.861825  5.677988e+06     0.912399     0.015509   \n",
      "min      24.750000    24.380000  2.180000e+02   -39.490000    -0.501200   \n",
      "25%      42.350000    41.860000  3.953900e+06    -0.310000    -0.006400   \n",
      "50%      47.250000    46.410000  6.681600e+06     0.010000     0.000200   \n",
      "75%      58.160000    56.990000  1.082534e+07     0.320000     0.006800   \n",
      "max      88.940000    87.690000  9.898883e+07     5.760000     0.138800   \n",
      "\n",
      "       Recomendation  \n",
      "count    5753.000000  \n",
      "mean        0.504954  \n",
      "std         0.500019  \n",
      "min         0.000000  \n",
      "25%         0.000000  \n",
      "50%         1.000000  \n",
      "75%         1.000000  \n",
      "max         1.000000  \n"
     ]
    }
   ],
   "source": [
    "# descriptions\n",
    "print(dataset.describe())"
   ]
  },
  {
   "cell_type": "markdown",
   "metadata": {},
   "source": [
    "We can see that all of the numerical values have the different scales.\n",
    "\n",
    "\n",
    "3.4 Class Distribution\n",
    "Let’s now take a look at the number of instances (rows) that belong to each class. We can view this as an absolute count."
   ]
  },
  {
   "cell_type": "code",
   "execution_count": 13,
   "metadata": {},
   "outputs": [
    {
     "name": "stdout",
     "output_type": "stream",
     "text": [
      "Recomendation\n",
      "0    2848\n",
      "1    2905\n",
      "dtype: int64\n"
     ]
    }
   ],
   "source": [
    "# class distribution\n",
    "print(dataset.groupby('Recomendation').size())"
   ]
  },
  {
   "cell_type": "markdown",
   "metadata": {},
   "source": [
    "We can see that each class has roughly the same number of instances (~50%) of either buy (1) or not buy (0)."
   ]
  },
  {
   "cell_type": "markdown",
   "metadata": {},
   "source": [
    "4. Data Visualization\n",
    "We now have a basic idea about the data. We need to extend that with some visualizations.\n",
    "\n",
    "We are going to look at two types of plots:\n",
    "\n",
    "Univariate plots to better understand each attribute.\n",
    "Multivariate plots to better understand the relationships between attributes.\n",
    "\n",
    "4.1 Univariate Plots\n",
    "We start with some univariate plots, that is, plots of each individual variable.\n",
    "\n",
    "Given that the input variables are numeric, we can create box and whisker plots of each."
   ]
  },
  {
   "cell_type": "code",
   "execution_count": 14,
   "metadata": {},
   "outputs": [
    {
     "data": {
      "image/png": "[encoded data removed]",
      "text/plain": [
       "<matplotlib.figure.Figure at 0x2aa47046470>"
      ]
     },
     "metadata": {},
     "output_type": "display_data"
    }
   ],
   "source": [
    "# box and whisker plots\n",
    "dataset.plot(kind='box', subplots=True, layout=(1,6), sharex=False, sharey=False)\n",
    "plt.show()"
   ]
  },
  {
   "cell_type": "markdown",
   "metadata": {},
   "source": [
    "We can also create a histogram of each input variable to get an idea of the distribution."
   ]
  },
  {
   "cell_type": "code",
   "execution_count": 15,
   "metadata": {},
   "outputs": [
    {
     "data": {
      "image/png": "[encoded data removed]",
      "text/plain": [
       "<matplotlib.figure.Figure at 0x2aa4756fb00>"
      ]
     },
     "metadata": {},
     "output_type": "display_data"
    }
   ],
   "source": [
    "# histograms\n",
    "dataset.hist()\n",
    "plt.show()"
   ]
  },
  {
   "cell_type": "markdown",
   "metadata": {},
   "source": [
    "It looks like only high and low variables have a Gaussian distribution. This is useful to note as we can use algorithms that can exploit this assumption.\n",
    "\n",
    "4.2 Multivariate Plots\n",
    "Now we can look at the interactions between the variables.\n",
    "\n",
    "First, let’s look at scatterplots of all pairs of attributes. This can be helpful to spot structured relationships between input variables."
   ]
  },
  {
   "cell_type": "code",
   "execution_count": 16,
   "metadata": {},
   "outputs": [
    {
     "data": {
      "image/png": "[encoded data removed]",
      "text/plain": [
       "<matplotlib.figure.Figure at 0x2aa470460f0>"
      ]
     },
     "metadata": {},
     "output_type": "display_data"
    }
   ],
   "source": [
    "# scatter plot matrix\n",
    "scatter_matrix(dataset)\n",
    "plt.show()"
   ]
  },
  {
   "cell_type": "markdown",
   "metadata": {},
   "source": [
    "Note the diagonal grouping of the high/low price pairs of attributes. This suggests a high correlation and a predictable relationship.\n",
    "\n",
    "5. Evaluate Some Algorithms\n",
    "Now it is time to create some models of the data and estimate their accuracy on unseen data.\n",
    "\n",
    "Here is what we are going to cover in this step:\n",
    "\n",
    "Separate out a validation dataset.\n",
    "Set-up the test harness to use 10-fold cross validation.\n",
    "Build 5 different models to predict species from flower measurements\n",
    "Select the best model.\n",
    "\n",
    "5.1 Create a Validation Dataset\n",
    "We need to know that the model we created is any good.\n",
    "\n",
    "Later, we will use statistical methods to estimate the accuracy of the models that we create on unseen data. We also want a more concrete estimate of the accuracy of the best model on unseen data by evaluating it on actual unseen data.\n",
    "\n",
    "That is, we are going to hold back some data that the algorithms will not get to see and we will use this data to get a second and independent idea of how accurate the best model might actually be.\n",
    "\n",
    "We will split the loaded dataset into two, 80% of which we will use to train our models and 20% that we will hold back as a validation dataset."
   ]
  },
  {
   "cell_type": "code",
   "execution_count": 17,
   "metadata": {
    "collapsed": true
   },
   "outputs": [],
   "source": [
    "# Split-out validation dataset\n",
    "array = dataset.values\n",
    "X = array[:,0:5]\n",
    "Y = array[:,5]\n",
    "validation_size = 0.20\n",
    "seed = 7\n",
    "X_train, X_validation, Y_train, Y_validation = model_selection.train_test_split(X, Y, test_size=validation_size, random_state=seed)"
   ]
  },
  {
   "cell_type": "markdown",
   "metadata": {},
   "source": [
    "You now have training data in the X_train and Y_train for preparing models and a X_validation and Y_validation sets that we can use later.\n",
    "\n",
    "5.2 Test Harness\n",
    "We will use 10-fold cross validation to estimate accuracy.\n",
    "\n",
    "This will split our dataset into 10 parts, train on 9 and test on 1 and repeat for all combinations of train-test splits."
   ]
  },
  {
   "cell_type": "code",
   "execution_count": 18,
   "metadata": {
    "collapsed": true
   },
   "outputs": [],
   "source": [
    "# Test options and evaluation metric\n",
    "seed = 7\n",
    "scoring = 'accuracy'"
   ]
  },
  {
   "cell_type": "markdown",
   "metadata": {},
   "source": [
    "The specific random seed does not matter, learn more about pseudorandom number generators here:\n",
    "\n",
    "Introduction to Random Number Generators for Machine Learning in Python (https://machinelearningmastery.com/introduction-to-random-number-generators-for-machine-learning/) \n",
    "\n",
    "We are using the metric of ‘accuracy‘ to evaluate models. This is a ratio of the number of correctly predicted instances in divided by the total number of instances in the dataset multiplied by 100 to give a percentage (e.g. 95% accurate). We will be using the scoring variable when we run build and evaluate each model next.\n",
    "\n",
    "5.3 Build Models\n",
    "We don’t know which algorithms would be good on this problem or what configurations to use. We get an idea from the plots that some of the classes are partially linearly separable in some dimensions, so we are expecting generally good results.\n",
    "\n",
    "Let’s evaluate 6 different algorithms:\n",
    "\n",
    "Logistic Regression (LR)\n",
    "Linear Discriminant Analysis (LDA)\n",
    "K-Nearest Neighbors (KNN).\n",
    "Classification and Regression Trees (CART).\n",
    "Gaussian Naive Bayes (NB).\n",
    "Support Vector Machines (SVM).\n",
    "This is a good mixture of simple linear (LR and LDA), nonlinear (KNN, CART, NB and SVM) algorithms. We reset the random number seed before each run to ensure that the evaluation of each algorithm is performed using exactly the same data splits. It ensures the results are directly comparable.\n",
    "\n",
    "Let’s build and evaluate our five models:"
   ]
  },
  {
   "cell_type": "code",
   "execution_count": 19,
   "metadata": {},
   "outputs": [
    {
     "name": "stdout",
     "output_type": "stream",
     "text": [
      "LR: 0.505432 (0.022111)\n",
      "LDA: 0.508250 (0.024280)\n",
      "KNN: 0.513474 (0.012617)\n",
      "CART: 0.494999 (0.023935)\n",
      "NB: 0.503263 (0.010856)\n",
      "SVM: 0.506085 (0.022016)\n"
     ]
    }
   ],
   "source": [
    "# Spot Check Algorithms\n",
    "models = []\n",
    "models.append(('LR', LogisticRegression()))\n",
    "models.append(('LDA', LinearDiscriminantAnalysis()))\n",
    "models.append(('KNN', KNeighborsClassifier()))\n",
    "models.append(('CART', DecisionTreeClassifier()))\n",
    "models.append(('NB', GaussianNB()))\n",
    "models.append(('SVM', SVC()))\n",
    "# evaluate each model in turn\n",
    "results = []\n",
    "names = []\n",
    "for name, model in models:\n",
    "\tkfold = model_selection.KFold(n_splits=10, random_state=seed)\n",
    "\tcv_results = model_selection.cross_val_score(model, X_train, Y_train, cv=kfold, scoring=scoring)\n",
    "\tresults.append(cv_results)\n",
    "\tnames.append(name)\n",
    "\tmsg = \"%s: %f (%f)\" % (name, cv_results.mean(), cv_results.std())\n",
    "\tprint(msg)"
   ]
  },
  {
   "cell_type": "markdown",
   "metadata": {},
   "source": [
    "5.4 Select Best Model\n",
    "We now have 6 models and accuracy estimations for each. We need to compare the models to each other and select the most accurate.\n",
    "\n",
    "Running the example above, we get the following raw results:\n",
    "\n",
    "Note, you’re results may differ. For more on this see the post:\n",
    "\n",
    "Embrace Randomness in Machine Learning (https://machinelearningmastery.com/randomness-in-machine-learning/)\n",
    "\n",
    "We can see that it looks like KNN has the largest estimated accuracy score.\n",
    "\n",
    "We can also create a plot of the model evaluation results and compare the spread and the mean accuracy of each model. There is a population of accuracy measures for each algorithm because each algorithm was evaluated 10 times (10 fold cross validation)."
   ]
  },
  {
   "cell_type": "code",
   "execution_count": 20,
   "metadata": {},
   "outputs": [
    {
     "data": {
      "image/png": "[encoded data removed]",
      "text/plain": [
       "<matplotlib.figure.Figure at 0x2aa4750df28>"
      ]
     },
     "metadata": {},
     "output_type": "display_data"
    }
   ],
   "source": [
    "# Compare Algorithms\n",
    "fig = plt.figure()\n",
    "fig.suptitle('Algorithm Comparison')\n",
    "ax = fig.add_subplot(111)\n",
    "plt.boxplot(results)\n",
    "ax.set_xticklabels(names)\n",
    "plt.show()"
   ]
  },
  {
   "cell_type": "markdown",
   "metadata": {},
   "source": [
    "You can see that the box and whisker plots are squashed at the top of the range, with many samples achieving 100% accuracy.\n",
    "\n",
    "6. Make Predictions\n",
    "The KNN algorithm was the most accurate model that we tested. Now we want to get an idea of the accuracy of the model on our validation set.\n",
    "\n",
    "This will give us an independent final check on the accuracy of the best model. It is valuable to keep a validation set just in case you made a slip during training, such as overfitting to the training set or a data leak. Both will result in an overly optimistic result.\n",
    "\n",
    "We can run the KNN model directly on the validation set and summarize the results as a final accuracy score, a confusion matrix (http://machinelearningmastery.com/confusion-matrix-machine-learning/) and a classification report."
   ]
  },
  {
   "cell_type": "code",
   "execution_count": 21,
   "metadata": {
    "scrolled": true
   },
   "outputs": [
    {
     "name": "stdout",
     "output_type": "stream",
     "text": [
      "0.523892267593\n",
      "[[290 282]\n",
      " [266 313]]\n",
      "             precision    recall  f1-score   support\n",
      "\n",
      "        0.0       0.52      0.51      0.51       572\n",
      "        1.0       0.53      0.54      0.53       579\n",
      "\n",
      "avg / total       0.52      0.52      0.52      1151\n",
      "\n"
     ]
    }
   ],
   "source": [
    "# Make predictions on validation dataset using KNN\n",
    "knn = KNeighborsClassifier()\n",
    "knn.fit(X_train, Y_train)\n",
    "predictions = knn.predict(X_validation)\n",
    "print(accuracy_score(Y_validation, predictions))\n",
    "print(confusion_matrix(Y_validation, predictions))\n",
    "print(classification_report(Y_validation, predictions))"
   ]
  },
  {
   "cell_type": "markdown",
   "metadata": {},
   "source": [
    "We can see that the accuracy is 0.9 or 90%. The confusion matrix provides an indication of the three errors made. Finally, the classification report provides a breakdown of each class by precision, recall, f1-score and support showing excellent results (granted the validation dataset was small).\n",
    "\n",
    "You can learn more about how to make predictions and predict probabilities here:\n",
    "\n",
    "How to Make Predictions with scikit-learn (https://machinelearningmastery.com/make-predictions-scikit-learn/)\n",
    "\n",
    "You Can Do Machine Learning in Python\n",
    "Work through the tutorial above. It will take you 5-to-10 minutes, max!\n",
    "\n",
    "You do not need to understand everything. (at least not right now) Your goal is to run through the tutorial end-to-end and get a result. You do not need to understand everything on the first pass. List down your questions as you go. Make heavy use of the help(“FunctionName”) help syntax in Python to learn about all of the functions that you’re using.\n",
    "\n",
    "You do not need to know how the algorithms work. It is important to know about the limitations and how to configure machine learning algorithms. But learning about algorithms can come later. You need to build up this algorithm knowledge slowly over a long period of time. Today, start off by getting comfortable with the platform.\n",
    "\n",
    "You do not need to be a Python programmer. The syntax of the Python language can be intuitive if you are new to it. Just like other languages, focus on function calls (e.g. function()) and assignments (e.g. a = “b”). This will get you most of the way. You are a developer, you know how to pick up the basics of a language real fast. Just get started and dive into the details later.\n",
    "\n",
    "You do not need to be a machine learning expert. You can learn about the benefits and limitations of various algorithms later, and there are plenty of posts that you can read later to brush up on the steps of a machine learning project and the importance of evaluating accuracy using cross validation.\n",
    "\n",
    "What about other steps in a machine learning project. We did not cover all of the steps in a machine learning project because this is your first project and we need to focus on the key steps. Namely, loading data, looking at the data, evaluating some algorithms and making some predictions. In later tutorials we can look at other data preparation and result improvement tasks.\n",
    "\n",
    "Summary\n",
    "In this post, you discovered step-by-step how to complete your first machine learning project in Python.\n",
    "\n",
    "You discovered that completing a small end-to-end project from loading the data to making predictions is the best way to get familiar with a new platform.\n",
    "\n",
    "Your Next Step\n",
    "Do you work through the tutorial?\n",
    "\n",
    "Work through the above tutorial.\n",
    "List any questions you have.\n",
    "Search or research the answers.\n",
    "Remember, you can use the help(“FunctionName”) in Python to get help on any function."
   ]
  },
  {
   "cell_type": "code",
   "execution_count": 22,
   "metadata": {
    "scrolled": false
   },
   "outputs": [
    {
     "name": "stdout",
     "output_type": "stream",
     "text": [
      "0.489139878367\n",
      "[[163 409]\n",
      " [179 400]]\n",
      "             precision    recall  f1-score   support\n",
      "\n",
      "        0.0       0.48      0.28      0.36       572\n",
      "        1.0       0.49      0.69      0.58       579\n",
      "\n",
      "avg / total       0.49      0.49      0.47      1151\n",
      "\n"
     ]
    }
   ],
   "source": [
    "# Make predictions on validation dataset using LDA\n",
    "lda = LinearDiscriminantAnalysis()\n",
    "lda.fit(X_train, Y_train)\n",
    "predictions = lda.predict(X_validation)\n",
    "print(accuracy_score(Y_validation, predictions))\n",
    "print(confusion_matrix(Y_validation, predictions))\n",
    "print(classification_report(Y_validation, predictions))"
   ]
  },
  {
   "cell_type": "code",
   "execution_count": 23,
   "metadata": {},
   "outputs": [
    {
     "name": "stdout",
     "output_type": "stream",
     "text": [
      "0.503040834057\n",
      "[[  0 572]\n",
      " [  0 579]]\n",
      "             precision    recall  f1-score   support\n",
      "\n",
      "        0.0       0.00      0.00      0.00       572\n",
      "        1.0       0.50      1.00      0.67       579\n",
      "\n",
      "avg / total       0.25      0.50      0.34      1151\n",
      "\n"
     ]
    },
    {
     "name": "stderr",
     "output_type": "stream",
     "text": [
      "C:\\Users\\wave-top\\Anaconda3\\lib\\site-packages\\sklearn\\metrics\\classification.py:1135: UndefinedMetricWarning: Precision and F-score are ill-defined and being set to 0.0 in labels with no predicted samples.\n",
      "  'precision', 'predicted', average, warn_for)\n"
     ]
    }
   ],
   "source": [
    "# Make predictions on validation dataset using LR\n",
    "lr = LogisticRegression()\n",
    "lr.fit(X_train, Y_train)\n",
    "predictions = lr.predict(X_validation)\n",
    "print(accuracy_score(Y_validation, predictions))\n",
    "print(confusion_matrix(Y_validation, predictions))\n",
    "print(classification_report(Y_validation, predictions))"
   ]
  },
  {
   "cell_type": "code",
   "execution_count": 24,
   "metadata": {},
   "outputs": [
    {
     "name": "stdout",
     "output_type": "stream",
     "text": [
      "0.470026064292\n",
      "[[269 303]\n",
      " [307 272]]\n",
      "             precision    recall  f1-score   support\n",
      "\n",
      "        0.0       0.47      0.47      0.47       572\n",
      "        1.0       0.47      0.47      0.47       579\n",
      "\n",
      "avg / total       0.47      0.47      0.47      1151\n",
      "\n"
     ]
    }
   ],
   "source": [
    "# Make predictions on validation dataset using DTC\n",
    "dtc = DecisionTreeClassifier()\n",
    "dtc.fit(X_train, Y_train)\n",
    "predictions = dtc.predict(X_validation)\n",
    "print(accuracy_score(Y_validation, predictions))\n",
    "print(confusion_matrix(Y_validation, predictions))\n",
    "print(classification_report(Y_validation, predictions))"
   ]
  },
  {
   "cell_type": "code",
   "execution_count": 25,
   "metadata": {},
   "outputs": [
    {
     "name": "stdout",
     "output_type": "stream",
     "text": [
      "0.503040834057\n",
      "[[310 262]\n",
      " [310 269]]\n",
      "             precision    recall  f1-score   support\n",
      "\n",
      "        0.0       0.50      0.54      0.52       572\n",
      "        1.0       0.51      0.46      0.48       579\n",
      "\n",
      "avg / total       0.50      0.50      0.50      1151\n",
      "\n"
     ]
    }
   ],
   "source": [
    "# Make predictions on validation dataset using GNB\n",
    "nb = GaussianNB()\n",
    "nb.fit(X_train, Y_train)\n",
    "predictions = nb.predict(X_validation)\n",
    "print(accuracy_score(Y_validation, predictions))\n",
    "print(confusion_matrix(Y_validation, predictions))\n",
    "print(classification_report(Y_validation, predictions))"
   ]
  },
  {
   "cell_type": "code",
   "execution_count": 26,
   "metadata": {},
   "outputs": [
    {
     "name": "stdout",
     "output_type": "stream",
     "text": [
      "0.504778453519\n",
      "[[  2 570]\n",
      " [  0 579]]\n",
      "             precision    recall  f1-score   support\n",
      "\n",
      "        0.0       1.00      0.00      0.01       572\n",
      "        1.0       0.50      1.00      0.67       579\n",
      "\n",
      "avg / total       0.75      0.50      0.34      1151\n",
      "\n"
     ]
    }
   ],
   "source": [
    "# Make predictions on validation dataset using SVC\n",
    "svc = SVC()\n",
    "svc.fit(X_train, Y_train)\n",
    "predictions = svc.predict(X_validation)\n",
    "print(accuracy_score(Y_validation, predictions))\n",
    "print(confusion_matrix(Y_validation, predictions))\n",
    "print(classification_report(Y_validation, predictions))"
   ]
  },
  {
   "cell_type": "code",
   "execution_count": 27,
   "metadata": {},
   "outputs": [
    {
     "ename": "TypeError",
     "evalue": "parser_f() got an unexpected keyword argument 'testNames'",
     "output_type": "error",
     "traceback": [
      "\u001b[1;31m---------------------------------------------------------------------------\u001b[0m",
      "\u001b[1;31mTypeError\u001b[0m                                 Traceback (most recent call last)",
      "\u001b[1;32m<ipython-input-27-83fb381576e2>\u001b[0m in \u001b[0;36m<module>\u001b[1;34m()\u001b[0m\n\u001b[0;32m      1\u001b[0m \u001b[0mtesturl\u001b[0m \u001b[1;33m=\u001b[0m \u001b[1;34m\"file:///C:/Users/Magic Storm/Downloads/Financial/Coca_Cola_2017_And_Earlier_With_Recomendation.csv\"\u001b[0m\u001b[1;33m\u001b[0m\u001b[0m\n\u001b[0;32m      2\u001b[0m \u001b[0mtestNames\u001b[0m \u001b[1;33m=\u001b[0m \u001b[1;33m[\u001b[0m\u001b[1;34m'High'\u001b[0m\u001b[1;33m,\u001b[0m\u001b[1;34m'Low'\u001b[0m\u001b[1;33m,\u001b[0m\u001b[1;34m'Volume'\u001b[0m\u001b[1;33m,\u001b[0m\u001b[1;34m'Change'\u001b[0m\u001b[1;33m,\u001b[0m \u001b[1;34m'Percent'\u001b[0m\u001b[1;33m,\u001b[0m \u001b[1;34m'Recomendation'\u001b[0m\u001b[1;33m]\u001b[0m\u001b[1;33m\u001b[0m\u001b[0m\n\u001b[1;32m----> 3\u001b[1;33m \u001b[0mtestDataSet\u001b[0m \u001b[1;33m=\u001b[0m \u001b[0mpandas\u001b[0m\u001b[1;33m.\u001b[0m\u001b[0mread_csv\u001b[0m\u001b[1;33m(\u001b[0m\u001b[0mtesturl\u001b[0m\u001b[1;33m,\u001b[0m \u001b[0mtestNames\u001b[0m\u001b[1;33m=\u001b[0m\u001b[0mtestNames\u001b[0m\u001b[1;33m)\u001b[0m\u001b[1;33m\u001b[0m\u001b[0m\n\u001b[0m",
      "\u001b[1;31mTypeError\u001b[0m: parser_f() got an unexpected keyword argument 'testNames'"
     ]
    }
   ],
   "source": [
    "testurl = \"file:///C:/Users/Magic Storm/Downloads/Financial/Coca_Cola_2017_And_Earlier_With_Recomendation.csv\"\n",
    "testNames = ['High','Low','Volume','Change', 'Percent', 'Recomendation']\n",
    "testDataSet = pandas.read_csv(testurl, testNames=testNames)"
   ]
  },
  {
   "cell_type": "code",
   "execution_count": null,
   "metadata": {
    "collapsed": true
   },
   "outputs": [],
   "source": []
  }
 ],
 "metadata": {
  "kernelspec": {
   "display_name": "Python 3",
   "language": "python",
   "name": "python3"
  },
  "language_info": {
   "codemirror_mode": {
    "name": "ipython",
    "version": 3
   },
   "file_extension": ".py",
   "mimetype": "text/x-python",
   "name": "python",
   "nbconvert_exporter": "python",
   "pygments_lexer": "ipython3",
   "version": "3.6.3"
  }
 },
 "nbformat": 4,
 "nbformat_minor": 2
}
