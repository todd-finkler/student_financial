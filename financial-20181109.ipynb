{
 "cells": [
  {
   "cell_type": "markdown",
   "metadata": {},
   "source": [
    "1. Start Python and Check Versions\n",
    "It is a good idea to make sure your Python environment was installed successfully and is working as expected.\n",
    "\n",
    "The script below will help you test out your environment. It imports each library required in this tutorial and prints the version.\n",
    "\n",
    "Open a command line and start the python interpreter:"
   ]
  },
  {
   "cell_type": "code",
   "execution_count": 1,
   "metadata": {},
   "outputs": [
    {
     "name": "stdout",
     "output_type": "stream",
     "text": [
      "Python: 3.6.3 |Anaconda custom (64-bit)| (default, Oct 15 2017, 03:27:45) [MSC v.1900 64 bit (AMD64)]\n",
      "scipy: 0.19.1\n",
      "numpy: 1.13.3\n",
      "matplotlib: 2.1.0\n",
      "pandas: 0.20.3\n",
      "sklearn: 0.19.1\n"
     ]
    }
   ],
   "source": [
    "# Check the versions of libraries\n",
    "\n",
    "# Python version\n",
    "import sys\n",
    "print('Python: {}'.format(sys.version))\n",
    "# scipy\n",
    "import scipy\n",
    "print('scipy: {}'.format(scipy.__version__))\n",
    "# numpy\n",
    "import numpy\n",
    "print('numpy: {}'.format(numpy.__version__))\n",
    "# matplotlib\n",
    "import matplotlib\n",
    "print('matplotlib: {}'.format(matplotlib.__version__))\n",
    "# pandas\n",
    "import pandas\n",
    "print('pandas: {}'.format(pandas.__version__))\n",
    "# scikit-learn\n",
    "import sklearn\n",
    "print('sklearn: {}'.format(sklearn.__version__))# Load libraries"
   ]
  },
  {
   "cell_type": "markdown",
   "metadata": {},
   "source": [
    "2. Load The Data\n",
    "We are going to use the iris flowers dataset. This dataset is famous because it is used as the “hello world” dataset in machine learning and statistics by pretty much everyone.\n",
    "\n",
    "The dataset contains 150 observations of iris flowers. There are four columns of measurements of the flowers in centimeters. The fifth column is the species of the flower observed. All observed flowers belong to one of three species.\n",
    "\n",
    "You can learn more about this dataset on Wikipedia (https://en.wikipedia.org/wiki/Iris_flower_data_set).\n",
    "\n",
    "In this step we are going to load the iris data from CSV file URL.\n",
    "\n",
    "2.1 Import libraries\n",
    "First, let’s import all of the modules, functions and objects we are going to use in this tutorial."
   ]
  },
  {
   "cell_type": "code",
   "execution_count": 2,
   "metadata": {
    "collapsed": true
   },
   "outputs": [],
   "source": [
    "# Load libraries\n",
    "import pandas\n",
    "from pandas.plotting import scatter_matrix\n",
    "import matplotlib.pyplot as plt\n",
    "from sklearn import model_selection\n",
    "from sklearn.metrics import classification_report\n",
    "from sklearn.metrics import confusion_matrix\n",
    "from sklearn.metrics import accuracy_score\n",
    "from sklearn.linear_model import LogisticRegression\n",
    "from sklearn.tree import DecisionTreeClassifier\n",
    "from sklearn.neighbors import KNeighborsClassifier\n",
    "from sklearn.discriminant_analysis import LinearDiscriminantAnalysis\n",
    "from sklearn.naive_bayes import GaussianNB\n",
    "from sklearn.svm import SVC"
   ]
  },
  {
   "cell_type": "markdown",
   "metadata": {},
   "source": [
    "Everything should load without error. If you have an error, stop. You need a working SciPy environment before continuing. See the advice above about setting up your environment.\n",
    "\n",
    "2.2 Load Dataset\n",
    "We can load the data directly from the UCI Machine Learning repository.\n",
    "\n",
    "We are using pandas to load the data. We will also use pandas next to explore the data both with descriptive statistics and data visualization.\n",
    "\n",
    "Note that we are specifying the names of each column when loading the data. This will help later when we explore the data."
   ]
  },
  {
   "cell_type": "code",
   "execution_count": 13,
   "metadata": {
    "collapsed": true
   },
   "outputs": [],
   "source": [
    "# Load dataset\n",
    "url = \"file:///C:/Users/wave-top/Documents/Python_Scripts/financial/Financial_Data_2017_and_earlier.csv\"\n",
    "names = ['Symbol','Date','Open','High','Low','Close','Volume','Change', 'Percent']\n",
    "dataset = pandas.read_csv(url, names=names)"
   ]
  },
  {
   "cell_type": "markdown",
   "metadata": {
    "collapsed": true
   },
   "source": [
    "3. Summarize the Dataset\n",
    "Now it is time to take a look at the data.\n",
    "\n",
    "In this step we are going to take a look at the data a few different ways:\n",
    "\n",
    "Dimensions of the dataset.\n",
    "Peek at the data itself.\n",
    "Statistical summary of all attributes.\n",
    "Breakdown of the data by the class variable.\n",
    "Don’t worry, each look at the data is one command. These are useful commands that you can use again and again on future projects.\n",
    "\n",
    "3.1 Dimensions of Dataset\n",
    "We can get a quick idea of how many instances (rows) and how many attributes (columns) the data contains with the shape property."
   ]
  },
  {
   "cell_type": "code",
   "execution_count": 14,
   "metadata": {},
   "outputs": [
    {
     "name": "stdout",
     "output_type": "stream",
     "text": [
      "(38592, 9)\n"
     ]
    }
   ],
   "source": [
    "# shape\n",
    "print(dataset.shape)"
   ]
  },
  {
   "cell_type": "markdown",
   "metadata": {},
   "source": [
    "You should see 150 instances and 5 attributes:\n",
    "\n",
    "3.2 Peek at the Data\n",
    "It is also always a good idea to actually eyeball your data."
   ]
  },
  {
   "cell_type": "code",
   "execution_count": 17,
   "metadata": {},
   "outputs": [
    {
     "name": "stdout",
     "output_type": "stream",
     "text": [
      "   Symbol       Date    Open    High     Low   Close     Volume  Change  \\\n",
      "0      KO   1/4/1995  25.880  25.880  25.190  25.320  1622300.0   -0.56   \n",
      "1     WMT   1/4/1995  10.440  10.810  10.310  10.810  3896100.0    0.38   \n",
      "2    MSFT   1/5/1995   3.805   3.812   3.711   3.727  2489000.0   -0.06   \n",
      "3      KO   1/5/1995  25.320  25.380  24.940  25.190  2120000.0   -0.12   \n",
      "4     WMT   1/5/1995  11.000  11.120  10.810  10.940  4819100.0    0.12   \n",
      "5      KO   1/6/1995  25.190  25.320  25.000  25.190  1351300.0    0.00   \n",
      "6     WMT   1/6/1995  11.000  11.120  10.750  11.000  4310500.0    0.06   \n",
      "7    MSFT   1/6/1995   3.743   3.828   3.734   3.789  2917600.0    0.06   \n",
      "8      KO   1/9/1995  25.120  25.120  24.750  24.820  1471400.0   -0.38   \n",
      "9    MSFT   1/9/1995   3.805   3.812   3.734   3.766  2875000.0   -0.02   \n",
      "10    WMT   1/9/1995  10.940  11.000  10.810  10.940  2281700.0   -0.06   \n",
      "11    WMT  1/10/1995  11.000  11.000  10.750  10.750  2705200.0   -0.19   \n",
      "12     KO  1/10/1995  24.820  24.940  24.500  24.570  1863800.0   -0.25   \n",
      "13   MSFT  1/10/1995   3.789   3.844   3.781   3.812  2636500.0    0.05   \n",
      "14     KO  1/11/1995  24.570  24.750  24.500  24.620  1954800.0    0.06   \n",
      "15   MSFT  1/11/1995   3.821   3.859   3.797   3.836  1969500.0    0.02   \n",
      "16    WMT  1/11/1995  10.810  11.000  10.750  11.000  2874100.0    0.25   \n",
      "17    WMT  1/12/1995  11.000  11.000  10.690  10.750  1762500.0   -0.25   \n",
      "18   MSFT  1/12/1995   3.828   3.883   3.812   3.828  1687300.0   -0.01   \n",
      "19     KO  1/12/1995  24.620  24.940  24.380  24.880  2088000.0    0.25   \n",
      "\n",
      "   Percent  \n",
      "0   -2.16%  \n",
      "1    3.59%  \n",
      "2   -1.65%  \n",
      "3   -0.49%  \n",
      "4    1.16%  \n",
      "5    0.00%  \n",
      "6    0.59%  \n",
      "7    1.68%  \n",
      "8   -1.49%  \n",
      "9   -0.63%  \n",
      "10  -0.59%  \n",
      "11  -1.69%  \n",
      "12  -1.01%  \n",
      "13   1.24%  \n",
      "14   0.24%  \n",
      "15   0.62%  \n",
      "16   2.33%  \n",
      "17  -2.27%  \n",
      "18  -0.21%  \n",
      "19   1.02%  \n"
     ]
    }
   ],
   "source": [
    "# head\n",
    "print(dataset.head(20))"
   ]
  },
  {
   "cell_type": "markdown",
   "metadata": {},
   "source": [
    "3.3 Statistical Summary\n",
    "Now we can take a look at a summary of each attribute.\n",
    "\n",
    "This includes the count, mean, the min and max values as well as some percentiles."
   ]
  },
  {
   "cell_type": "code",
   "execution_count": 20,
   "metadata": {},
   "outputs": [
    {
     "name": "stdout",
     "output_type": "stream",
     "text": [
      "               Open          High           Low         Close        Volume  \\\n",
      "count  36655.000000  36655.000000  36655.000000  36655.000000  3.665500e+04   \n",
      "mean      99.168950    100.110080     98.175149     99.188439  4.782877e+07   \n",
      "std      154.371052    155.565588    153.048830    154.376998  2.022567e+08   \n",
      "min        0.927900      0.942100      0.345000      0.937100  1.000000e+02   \n",
      "25%       32.870000     33.310000     32.395000     32.880000  2.730719e+06   \n",
      "50%       53.860000     54.420000     53.300000     53.900000  6.507812e+06   \n",
      "75%       86.885000     87.765000     86.060000     86.890000  1.992986e+07   \n",
      "max     1205.000000   1205.000000   1189.000000   1194.000000  4.020000e+09   \n",
      "\n",
      "             Change  \n",
      "count  36655.000000  \n",
      "mean       0.064124  \n",
      "std        4.379775  \n",
      "min     -604.470000  \n",
      "25%       -0.440000  \n",
      "50%        0.010000  \n",
      "75%        0.500000  \n",
      "max      128.520000  \n"
     ]
    }
   ],
   "source": [
    "# descriptions\n",
    "print(dataset.describe())"
   ]
  },
  {
   "cell_type": "markdown",
   "metadata": {},
   "source": [
    "We can see that all of the numerical values have the same scale (centimeters) and similar ranges between 0 and 8 centimeters.\n",
    "\n",
    "\n",
    "3.4 Class Distribution\n",
    "Let’s now take a look at the number of instances (rows) that belong to each class. We can view this as an absolute count."
   ]
  },
  {
   "cell_type": "code",
   "execution_count": 9,
   "metadata": {},
   "outputs": [
    {
     "name": "stdout",
     "output_type": "stream",
     "text": [
      "Symbol\n",
      "1/1/2008      4\n",
      "1/10/1995     3\n",
      "1/10/1996     3\n",
      "1/10/1997     3\n",
      "1/10/2000     3\n",
      "1/10/2001     3\n",
      "1/10/2002     6\n",
      "1/10/2003     7\n",
      "1/10/2005     7\n",
      "1/10/2006     7\n",
      "1/10/2007     7\n",
      "1/10/2008     7\n",
      "1/10/2011     8\n",
      "1/10/2012     8\n",
      "1/10/2013     8\n",
      "1/10/2014     8\n",
      "1/10/2017    10\n",
      "1/11/1995     3\n",
      "1/11/1996     3\n",
      "1/11/1999     3\n",
      "1/11/2000     3\n",
      "1/11/2001     3\n",
      "1/11/2002     6\n",
      "1/11/2005     7\n",
      "1/11/2006     7\n",
      "1/11/2007     7\n",
      "1/11/2008     7\n",
      "1/11/2010     7\n",
      "1/11/2011     8\n",
      "1/11/2012     8\n",
      "             ..\n",
      "9/8/1999      3\n",
      "9/8/2000      3\n",
      "9/8/2003      7\n",
      "9/8/2004      7\n",
      "9/8/2005      7\n",
      "9/8/2006      7\n",
      "9/8/2008      7\n",
      "9/8/2009      7\n",
      "9/8/2010      8\n",
      "9/8/2011      8\n",
      "9/8/2014      9\n",
      "9/8/2015     10\n",
      "9/8/2016     10\n",
      "9/8/2017     10\n",
      "9/9/1996      3\n",
      "9/9/1997      3\n",
      "9/9/1998      3\n",
      "9/9/1999      3\n",
      "9/9/2002      7\n",
      "9/9/2003      7\n",
      "9/9/2004      7\n",
      "9/9/2005      7\n",
      "9/9/2008      7\n",
      "9/9/2009      7\n",
      "9/9/2010      8\n",
      "9/9/2011      8\n",
      "9/9/2013      8\n",
      "9/9/2014      9\n",
      "9/9/2015     10\n",
      "9/9/2016     10\n",
      "Length: 5777, dtype: int64\n"
     ]
    }
   ],
   "source": [
    "# class distribution\n",
    "print(dataset.groupby('Symbol').size())"
   ]
  },
  {
   "cell_type": "markdown",
   "metadata": {},
   "source": [
    "We can see that each class has the same number of instances (50 or 33% of the dataset)."
   ]
  },
  {
   "cell_type": "markdown",
   "metadata": {},
   "source": [
    "4. Data Visualization\n",
    "We now have a basic idea about the data. We need to extend that with some visualizations.\n",
    "\n",
    "We are going to look at two types of plots:\n",
    "\n",
    "Univariate plots to better understand each attribute.\n",
    "Multivariate plots to better understand the relationships between attributes.\n",
    "\n",
    "4.1 Univariate Plots\n",
    "We start with some univariate plots, that is, plots of each individual variable.\n",
    "\n",
    "Given that the input variables are numeric, we can create box and whisker plots of each."
   ]
  },
  {
   "cell_type": "code",
   "execution_count": 27,
   "metadata": {},
   "outputs": [
    {
     "data": {
      "image/png": "[encoded data removed]",
      "text/plain": [
       "<matplotlib.figure.Figure at 0x17780930978>"
      ]
     },
     "metadata": {},
     "output_type": "display_data"
    }
   ],
   "source": [
    "# box and whisker plots\n",
    "dataset.plot(kind='box', subplots=True, layout=(4,5), sharex=False, sharey=False)\n",
    "plt.show()"
   ]
  },
  {
   "cell_type": "markdown",
   "metadata": {},
   "source": [
    "We can also create a histogram of each input variable to get an idea of the distribution."
   ]
  },
  {
   "cell_type": "code",
   "execution_count": 11,
   "metadata": {},
   "outputs": [
    {
     "data": {
      "text/plain": [
       "<matplotlib.figure.Figure at 0x17780075e80>"
      ]
     },
     "metadata": {},
     "output_type": "display_data"
    },
    {
     "data": {
      "image/png": "[encoded data removed]",
      "text/plain": [
       "<matplotlib.figure.Figure at 0x17780647048>"
      ]
     },
     "metadata": {},
     "output_type": "display_data"
    }
   ],
   "source": [
    "# histograms\n",
    "dataset.hist()\n",
    "plt.show()"
   ]
  },
  {
   "cell_type": "markdown",
   "metadata": {},
   "source": [
    "It looks like perhaps two of the input variables have a Gaussian distribution. This is useful to note as we can use algorithms that can exploit this assumption.\n",
    "\n",
    "4.2 Multivariate Plots\n",
    "Now we can look at the interactions between the variables.\n",
    "\n",
    "First, let’s look at scatterplots of all pairs of attributes. This can be helpful to spot structured relationships between input variables."
   ]
  },
  {
   "cell_type": "code",
   "execution_count": 12,
   "metadata": {},
   "outputs": [
    {
     "data": {
      "image/png": "[encoded data removed]",
      "text/plain": [
       "<matplotlib.figure.Figure at 0x17780902710>"
      ]
     },
     "metadata": {},
     "output_type": "display_data"
    }
   ],
   "source": [
    "# scatter plot matrix\n",
    "scatter_matrix(dataset)\n",
    "plt.show()"
   ]
  },
  {
   "cell_type": "markdown",
   "metadata": {},
   "source": [
    "Note the diagonal grouping of some pairs of attributes. This suggests a high correlation and a predictable relationship.\n",
    "\n",
    "5. Evaluate Some Algorithms\n",
    "Now it is time to create some models of the data and estimate their accuracy on unseen data.\n",
    "\n",
    "Here is what we are going to cover in this step:\n",
    "\n",
    "Separate out a validation dataset.\n",
    "Set-up the test harness to use 10-fold cross validation.\n",
    "Build 5 different models to predict species from flower measurements\n",
    "Select the best model.\n",
    "\n",
    "5.1 Create a Validation Dataset\n",
    "We need to know that the model we created is any good.\n",
    "\n",
    "Later, we will use statistical methods to estimate the accuracy of the models that we create on unseen data. We also want a more concrete estimate of the accuracy of the best model on unseen data by evaluating it on actual unseen data.\n",
    "\n",
    "That is, we are going to hold back some data that the algorithms will not get to see and we will use this data to get a second and independent idea of how accurate the best model might actually be.\n",
    "\n",
    "We will split the loaded dataset into two, 80% of which we will use to train our models and 20% that we will hold back as a validation dataset."
   ]
  },
  {
   "cell_type": "code",
   "execution_count": 15,
   "metadata": {
    "collapsed": true
   },
   "outputs": [],
   "source": [
    "# Split-out validation dataset\n",
    "array = dataset.values\n",
    "X = array[:,0:4]\n",
    "Y = array[:,4]\n",
    "validation_size = 0.20\n",
    "seed = 7\n",
    "X_train, X_validation, Y_train, Y_validation = model_selection.train_test_split(X, Y, test_size=validation_size, random_state=seed)"
   ]
  },
  {
   "cell_type": "markdown",
   "metadata": {},
   "source": [
    "You now have training data in the X_train and Y_train for preparing models and a X_validation and Y_validation sets that we can use later.\n",
    "\n",
    "5.2 Test Harness\n",
    "We will use 10-fold cross validation to estimate accuracy.\n",
    "\n",
    "This will split our dataset into 10 parts, train on 9 and test on 1 and repeat for all combinations of train-test splits."
   ]
  },
  {
   "cell_type": "code",
   "execution_count": 16,
   "metadata": {
    "collapsed": true
   },
   "outputs": [],
   "source": [
    "# Test options and evaluation metric\n",
    "seed = 7\n",
    "scoring = 'accuracy'"
   ]
  },
  {
   "cell_type": "markdown",
   "metadata": {},
   "source": [
    "The specific random seed does not matter, learn more about pseudorandom number generators here:\n",
    "\n",
    "Introduction to Random Number Generators for Machine Learning in Python (https://machinelearningmastery.com/introduction-to-random-number-generators-for-machine-learning/) \n",
    "\n",
    "We are using the metric of ‘accuracy‘ to evaluate models. This is a ratio of the number of correctly predicted instances in divided by the total number of instances in the dataset multiplied by 100 to give a percentage (e.g. 95% accurate). We will be using the scoring variable when we run build and evaluate each model next.\n",
    "\n",
    "5.3 Build Models\n",
    "We don’t know which algorithms would be good on this problem or what configurations to use. We get an idea from the plots that some of the classes are partially linearly separable in some dimensions, so we are expecting generally good results.\n",
    "\n",
    "Let’s evaluate 6 different algorithms:\n",
    "\n",
    "Logistic Regression (LR)\n",
    "Linear Discriminant Analysis (LDA)\n",
    "K-Nearest Neighbors (KNN).\n",
    "Classification and Regression Trees (CART).\n",
    "Gaussian Naive Bayes (NB).\n",
    "Support Vector Machines (SVM).\n",
    "This is a good mixture of simple linear (LR and LDA), nonlinear (KNN, CART, NB and SVM) algorithms. We reset the random number seed before each run to ensure that the evaluation of each algorithm is performed using exactly the same data splits. It ensures the results are directly comparable.\n",
    "\n",
    "Let’s build and evaluate our five models:"
   ]
  },
  {
   "cell_type": "code",
   "execution_count": 18,
   "metadata": {},
   "outputs": [
    {
     "name": "stdout",
     "output_type": "stream",
     "text": [
      "LR: 0.966667 (0.040825)\n",
      "LDA: 0.975000 (0.038188)\n",
      "KNN: 0.983333 (0.033333)\n",
      "CART: 0.975000 (0.038188)\n",
      "NB: 0.975000 (0.053359)\n",
      "SVM: 0.991667 (0.025000)\n"
     ]
    }
   ],
   "source": [
    "# Spot Check Algorithms\n",
    "models = []\n",
    "models.append(('LR', LogisticRegression()))\n",
    "models.append(('LDA', LinearDiscriminantAnalysis()))\n",
    "models.append(('KNN', KNeighborsClassifier()))\n",
    "models.append(('CART', DecisionTreeClassifier()))\n",
    "models.append(('NB', GaussianNB()))\n",
    "models.append(('SVM', SVC()))\n",
    "# evaluate each model in turn\n",
    "results = []\n",
    "names = []\n",
    "for name, model in models:\n",
    "\tkfold = model_selection.KFold(n_splits=10, random_state=seed)\n",
    "\tcv_results = model_selection.cross_val_score(model, X_train, Y_train, cv=kfold, scoring=scoring)\n",
    "\tresults.append(cv_results)\n",
    "\tnames.append(name)\n",
    "\tmsg = \"%s: %f (%f)\" % (name, cv_results.mean(), cv_results.std())\n",
    "\tprint(msg)"
   ]
  },
  {
   "cell_type": "markdown",
   "metadata": {},
   "source": [
    "5.4 Select Best Model\n",
    "We now have 6 models and accuracy estimations for each. We need to compare the models to each other and select the most accurate.\n",
    "\n",
    "Running the example above, we get the following raw results:\n",
    "\n",
    "Note, you’re results may differ. For more on this see the post:\n",
    "\n",
    "Embrace Randomness in Machine Learning (https://machinelearningmastery.com/randomness-in-machine-learning/)\n",
    "\n",
    "We can see that it looks like KNN has the largest estimated accuracy score.\n",
    "\n",
    "We can also create a plot of the model evaluation results and compare the spread and the mean accuracy of each model. There is a population of accuracy measures for each algorithm because each algorithm was evaluated 10 times (10 fold cross validation)."
   ]
  },
  {
   "cell_type": "code",
   "execution_count": 20,
   "metadata": {},
   "outputs": [
    {
     "data": {
      "image/png": "[encoded data removed]",
      "text/plain": [
       "<matplotlib.figure.Figure at 0x1ecf9f13588>"
      ]
     },
     "metadata": {},
     "output_type": "display_data"
    }
   ],
   "source": [
    "# Compare Algorithms\n",
    "fig = plt.figure()\n",
    "fig.suptitle('Algorithm Comparison')\n",
    "ax = fig.add_subplot(111)\n",
    "plt.boxplot(results)\n",
    "ax.set_xticklabels(names)\n",
    "plt.show()"
   ]
  },
  {
   "cell_type": "markdown",
   "metadata": {},
   "source": [
    "You can see that the box and whisker plots are squashed at the top of the range, with many samples achieving 100% accuracy.\n",
    "\n",
    "6. Make Predictions\n",
    "The KNN algorithm was the most accurate model that we tested. Now we want to get an idea of the accuracy of the model on our validation set.\n",
    "\n",
    "This will give us an independent final check on the accuracy of the best model. It is valuable to keep a validation set just in case you made a slip during training, such as overfitting to the training set or a data leak. Both will result in an overly optimistic result.\n",
    "\n",
    "We can run the KNN model directly on the validation set and summarize the results as a final accuracy score, a confusion matrix (http://machinelearningmastery.com/confusion-matrix-machine-learning/) and a classification report."
   ]
  },
  {
   "cell_type": "code",
   "execution_count": 21,
   "metadata": {
    "scrolled": true
   },
   "outputs": [
    {
     "name": "stdout",
     "output_type": "stream",
     "text": [
      "0.9\n",
      "[[ 7  0  0]\n",
      " [ 0 11  1]\n",
      " [ 0  2  9]]\n",
      "                 precision    recall  f1-score   support\n",
      "\n",
      "    Iris-setosa       1.00      1.00      1.00         7\n",
      "Iris-versicolor       0.85      0.92      0.88        12\n",
      " Iris-virginica       0.90      0.82      0.86        11\n",
      "\n",
      "    avg / total       0.90      0.90      0.90        30\n",
      "\n"
     ]
    }
   ],
   "source": [
    "# Make predictions on validation dataset\n",
    "knn = KNeighborsClassifier()\n",
    "knn.fit(X_train, Y_train)\n",
    "predictions = knn.predict(X_validation)\n",
    "print(accuracy_score(Y_validation, predictions))\n",
    "print(confusion_matrix(Y_validation, predictions))\n",
    "print(classification_report(Y_validation, predictions))"
   ]
  },
  {
   "cell_type": "markdown",
   "metadata": {},
   "source": [
    "We can see that the accuracy is 0.9 or 90%. The confusion matrix provides an indication of the three errors made. Finally, the classification report provides a breakdown of each class by precision, recall, f1-score and support showing excellent results (granted the validation dataset was small).\n",
    "\n",
    "You can learn more about how to make predictions and predict probabilities here:\n",
    "\n",
    "How to Make Predictions with scikit-learn (https://machinelearningmastery.com/make-predictions-scikit-learn/)\n",
    "\n",
    "You Can Do Machine Learning in Python\n",
    "Work through the tutorial above. It will take you 5-to-10 minutes, max!\n",
    "\n",
    "You do not need to understand everything. (at least not right now) Your goal is to run through the tutorial end-to-end and get a result. You do not need to understand everything on the first pass. List down your questions as you go. Make heavy use of the help(“FunctionName”) help syntax in Python to learn about all of the functions that you’re using.\n",
    "\n",
    "You do not need to know how the algorithms work. It is important to know about the limitations and how to configure machine learning algorithms. But learning about algorithms can come later. You need to build up this algorithm knowledge slowly over a long period of time. Today, start off by getting comfortable with the platform.\n",
    "\n",
    "You do not need to be a Python programmer. The syntax of the Python language can be intuitive if you are new to it. Just like other languages, focus on function calls (e.g. function()) and assignments (e.g. a = “b”). This will get you most of the way. You are a developer, you know how to pick up the basics of a language real fast. Just get started and dive into the details later.\n",
    "\n",
    "You do not need to be a machine learning expert. You can learn about the benefits and limitations of various algorithms later, and there are plenty of posts that you can read later to brush up on the steps of a machine learning project and the importance of evaluating accuracy using cross validation.\n",
    "\n",
    "What about other steps in a machine learning project. We did not cover all of the steps in a machine learning project because this is your first project and we need to focus on the key steps. Namely, loading data, looking at the data, evaluating some algorithms and making some predictions. In later tutorials we can look at other data preparation and result improvement tasks.\n",
    "\n",
    "Summary\n",
    "In this post, you discovered step-by-step how to complete your first machine learning project in Python.\n",
    "\n",
    "You discovered that completing a small end-to-end project from loading the data to making predictions is the best way to get familiar with a new platform.\n",
    "\n",
    "Your Next Step\n",
    "Do you work through the tutorial?\n",
    "\n",
    "Work through the above tutorial.\n",
    "List any questions you have.\n",
    "Search or research the answers.\n",
    "Remember, you can use the help(“FunctionName”) in Python to get help on any function."
   ]
  }
 ],
 "metadata": {
  "kernelspec": {
   "display_name": "Python 3",
   "language": "python",
   "name": "python3"
  },
  "language_info": {
   "codemirror_mode": {
    "name": "ipython",
    "version": 3
   },
   "file_extension": ".py",
   "mimetype": "text/x-python",
   "name": "python",
   "nbconvert_exporter": "python",
   "pygments_lexer": "ipython3",
   "version": "3.6.3"
  }
 },
 "nbformat": 4,
 "nbformat_minor": 2
}
